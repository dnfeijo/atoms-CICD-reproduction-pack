{
 "cells": [
  {
   "cell_type": "markdown",
   "metadata": {},
   "source": [
    "This notebook purpose is to convert all the data (.csv files) from the android projects into new .csv files. The new csvs have the ACR, ACDIF and ACDEN metrics, their mean and median. This notebook also compiles all projects into two csvs: one that has all the normal metrics, and another with the average metrics.\n",
    "PS: The geometric mean done here is unnecessary, and not the one we used on our paper.\n"
   ]
  },
  {
   "cell_type": "code",
   "execution_count": 1,
   "metadata": {},
   "outputs": [],
   "source": [
    "#These are all the necessary imports for this notebook. Make sure you have all of the dependencies installed.\n",
    "import pandas as pd\n",
    "\n",
    "from scipy.stats.mstats import gmean"
   ]
  },
  {
   "cell_type": "markdown",
   "metadata": {},
   "source": [
    "The first steps are getting our data from the original .csv files. These were made by extracting data from the projects using BOHR (https://github.com/wendellmfm/bohr) and JMetriX (https://github.com/lincolnrocha/JMetriX)"
   ]
  },
  {
   "cell_type": "code",
   "execution_count": 2,
   "metadata": {},
   "outputs": [],
   "source": [
    "data_atoms_infinity_reddit = pd.read_csv(r'.\\Data\\reports\\infinity-for-reddit-all.csv', sep=';')\n",
    "data_atoms_discreet_launcher = pd.read_csv(r'.\\Data\\reports\\discreet-launcher-all.csv', sep=';')\n",
    "data_atoms_open_tracks = pd.read_csv(r'.\\Data\\reports\\opentracks-all.csv', sep=';')\n",
    "data_atoms_xupdate = pd.read_csv(r'.\\Data\\reports\\xupdate-all.csv', sep=';')\n",
    "data_atoms_presence_publisher = pd.read_csv(r'.\\Data\\reports\\presence-publisher-all.csv', sep=';')\n",
    "data_atoms_asteroid_os_sync = pd.read_csv(r'.\\Data\\reports\\\\asteroid-os-sync-all.csv', sep=';')\n",
    "data_atoms_unexpected_keyboard = pd.read_csv(r'.\\Data\\reports\\unexpected-keyboard-all.csv', sep=';')\n",
    "data_atoms_shitter = pd.read_csv(r'.\\Data\\reports\\shitter-all.csv', sep=';')\n",
    "data_atoms_colorpickerview = pd.read_csv(r'.\\Data\\reports\\colorpickerview-all.csv', sep=';')\n",
    "data_atoms_gestureviews = pd.read_csv(r'.\\Data\\reports\\gestureviews-all.csv', sep=';')"
   ]
  },
  {
   "cell_type": "markdown",
   "metadata": {},
   "source": [
    "These functions prepare the new metrics and how the new .csv files will be created"
   ]
  },
  {
   "cell_type": "code",
   "execution_count": 3,
   "metadata": {},
   "outputs": [],
   "source": [
    "def csv_preparation (data, name):\n",
    "    data['Number of Atoms per LoC (10^-3)'] = data['N.Atoms']*1000/data['LoC']\n",
    "    data['Atom Diffusion'] = data['Classes w/ Atoms']/data['Classes Total']\n",
    "    data['Atom Density'] = data['N.Atoms']/data['Classes w/ Atoms']\n",
    "    data['Project'] = name\n",
    "    data = data.iloc[::-1]\n",
    "    data = data.iloc[:,[20,0,1,2,3,4,5,6,7,8,9,10,11,12,13,14,15,16,17,18,19]]\n",
    "    return data"
   ]
  },
  {
   "cell_type": "code",
   "execution_count": 4,
   "metadata": {},
   "outputs": [],
   "source": [
    "def new_csv_creation (data, name):\n",
    "    new_data = []\n",
    "\n",
    "    mean_class_total_before = data[data[\"Period\"] == \"Before CI/CD\"][\"Classes Total\"].mean()\n",
    "    mean_class_total_after = data[data[\"Period\"] == \"After CI/CD\"][\"Classes Total\"].mean()  \n",
    "    mean_class_atoms_before = data[data[\"Period\"] == \"Before CI/CD\"][\"Classes w/ Atoms\"].mean()\n",
    "    mean_class_atoms_after = data[data[\"Period\"] == \"After CI/CD\"][\"Classes w/ Atoms\"].mean()  \n",
    "    mean_atoms_before = data[data[\"Period\"] == \"Before CI/CD\"][\"N.Atoms\"].mean() \n",
    "    mean_atoms_after = data[data[\"Period\"] == \"After CI/CD\"][\"N.Atoms\"].mean()\n",
    "    mean_loc_before = data[data[\"Period\"] == \"Before CI/CD\"][\"LoC\"].mean() \n",
    "    mean_loc_after = data[data[\"Period\"] == \"After CI/CD\"][\"LoC\"].mean()\n",
    "    mean_num_per_loc_before = data[data[\"Period\"] == \"Before CI/CD\"][\"Number of Atoms per LoC (10^-3)\"].mean() \n",
    "    mean_num_per_loc_after = data[data[\"Period\"] == \"After CI/CD\"][\"Number of Atoms per LoC (10^-3)\"].mean()\n",
    "    mean_diffusion_before = data[data[\"Period\"] == \"Before CI/CD\"][\"Atom Diffusion\"].mean() \n",
    "    mean_diffusion_after = data[data[\"Period\"] == \"After CI/CD\"][\"Atom Diffusion\"].mean()\n",
    "    mean_density_before = data[data[\"Period\"] == \"Before CI/CD\"][\"Atom Density\"].mean() \n",
    "    mean_density_after = data[data[\"Period\"] == \"After CI/CD\"][\"Atom Density\"].mean()\n",
    "\n",
    "    median_class_total_before = data[data[\"Period\"] == \"Before CI/CD\"][\"Classes Total\"].median()\n",
    "    median_class_total_after = data[data[\"Period\"] == \"After CI/CD\"][\"Classes Total\"].median()  \n",
    "    median_class_atoms_before = data[data[\"Period\"] == \"Before CI/CD\"][\"Classes w/ Atoms\"].median()\n",
    "    median_class_atoms_after = data[data[\"Period\"] == \"After CI/CD\"][\"Classes w/ Atoms\"].median() \n",
    "    median_atoms_before = data[data[\"Period\"] == \"Before CI/CD\"][\"N.Atoms\"].median() \n",
    "    median_atoms_after = data[data[\"Period\"] == \"After CI/CD\"][\"N.Atoms\"].median()\n",
    "    median_loc_before = data[data[\"Period\"] == \"Before CI/CD\"][\"LoC\"].median() \n",
    "    median_loc_after = data[data[\"Period\"] == \"After CI/CD\"][\"LoC\"].median()\n",
    "    median_num_per_loc_before = data[data[\"Period\"] == \"Before CI/CD\"][\"Number of Atoms per LoC (10^-3)\"].median() \n",
    "    median_num_per_loc_after = data[data[\"Period\"] == \"After CI/CD\"][\"Number of Atoms per LoC (10^-3)\"].median()\n",
    "    median_diffusion_before = data[data[\"Period\"] == \"Before CI/CD\"][\"Atom Diffusion\"].median() \n",
    "    median_diffusion_after = data[data[\"Period\"] == \"After CI/CD\"][\"Atom Diffusion\"].median()\n",
    "    median_density_before = data[data[\"Period\"] == \"Before CI/CD\"][\"Atom Density\"].median() \n",
    "    median_density_after = data[data[\"Period\"] == \"After CI/CD\"][\"Atom Density\"].median()\n",
    "\n",
    "    gmean_class_total_before = gmean(data[data[\"Period\"] == \"Before CI/CD\"][\"Classes Total\"])\n",
    "    gmean_class_total_after = gmean(data[data[\"Period\"] == \"After CI/CD\"][\"Classes Total\"])  \n",
    "    gmean_class_atoms_before = gmean(data[data[\"Period\"] == \"Before CI/CD\"][\"Classes w/ Atoms\"])\n",
    "    gmean_class_atoms_after = gmean(data[data[\"Period\"] == \"After CI/CD\"][\"Classes w/ Atoms\"])  \n",
    "    gmean_atoms_before = gmean(data[data[\"Period\"] == \"Before CI/CD\"][\"N.Atoms\"]) \n",
    "    gmean_atoms_after = gmean(data[data[\"Period\"] == \"After CI/CD\"][\"N.Atoms\"])\n",
    "    gmean_loc_before = gmean(data[data[\"Period\"] == \"Before CI/CD\"][\"LoC\"]) \n",
    "    gmean_loc_after = gmean(data[data[\"Period\"] == \"After CI/CD\"][\"LoC\"])\n",
    "    gmean_num_per_loc_before = gmean(data[data[\"Period\"] == \"Before CI/CD\"][\"Number of Atoms per LoC (10^-3)\"])\n",
    "    gmean_num_per_loc_after = gmean(data[data[\"Period\"] == \"After CI/CD\"][\"Number of Atoms per LoC (10^-3)\"])\n",
    "    gmean_diffusion_before = gmean(data[data[\"Period\"] == \"Before CI/CD\"][\"Atom Diffusion\"]) \n",
    "    gmean_diffusion_after = gmean(data[data[\"Period\"] == \"After CI/CD\"][\"Atom Diffusion\"])\n",
    "    gmean_density_before = gmean(data[data[\"Period\"] == \"Before CI/CD\"][\"Atom Density\"]) \n",
    "    gmean_density_after = gmean(data[data[\"Period\"] == \"After CI/CD\"][\"Atom Density\"])\n",
    "\n",
    "    new_data.append([name, \"Before CI/CD\", \"Mean\", mean_class_total_before, mean_class_atoms_before, mean_loc_before, mean_atoms_before, mean_num_per_loc_before, mean_diffusion_before, mean_density_before])\n",
    "    new_data.append([name, \"After CI/CD\", \"Mean\", mean_class_total_after, mean_class_atoms_after, mean_loc_after, mean_atoms_after, mean_num_per_loc_after, mean_diffusion_after, mean_density_after])\n",
    "    new_data.append([name, \"Before CI/CD\", \"Median\", median_class_total_before, median_class_atoms_before, median_loc_before, median_atoms_before, median_num_per_loc_before, median_diffusion_before, median_density_before])\n",
    "    new_data.append([name, \"After CI/CD\", \"Median\", median_class_total_after, median_class_atoms_after, median_loc_after, median_atoms_after, median_num_per_loc_after, median_diffusion_after, median_density_after])\n",
    "    new_data.append([name, \"Before CI/CD\", \"Geo-Mean\", gmean_class_total_before, gmean_class_atoms_before, gmean_loc_before, gmean_atoms_before, gmean_num_per_loc_before, gmean_diffusion_before, gmean_density_before])\n",
    "    new_data.append([name, \"After CI/CD\", \"Geo-Mean\", gmean_class_total_after, gmean_class_atoms_after, gmean_loc_after, gmean_atoms_after, gmean_num_per_loc_after, gmean_diffusion_after, gmean_density_after])\n",
    "\n",
    "    df = pd.DataFrame(new_data)\n",
    "    new_columns = data.columns.delete([7, 8, 9, 10, 11, 12, 13, 14, 15, 16, 17])\n",
    "    df.columns = new_columns\n",
    "    return df"
   ]
  },
  {
   "cell_type": "markdown",
   "metadata": {},
   "source": [
    "From now up until almost the end, the  notebook will go through every Android project and calculate the metrics, organize the data, and create the necessary .csv files for the other notebooks"
   ]
  },
  {
   "attachments": {},
   "cell_type": "markdown",
   "metadata": {},
   "source": [
    "Infinity-For-Reddit"
   ]
  },
  {
   "cell_type": "code",
   "execution_count": 5,
   "metadata": {},
   "outputs": [],
   "source": [
    "data_infinity_reddit_prepared = csv_preparation(data_atoms_infinity_reddit, 'Infinity-For-Reddit')"
   ]
  },
  {
   "cell_type": "code",
   "execution_count": 6,
   "metadata": {},
   "outputs": [],
   "source": [
    "new_data_infinity_reddit = new_csv_creation(data_infinity_reddit_prepared, 'Infinity-For-Reddit')"
   ]
  },
  {
   "cell_type": "code",
   "execution_count": 7,
   "metadata": {},
   "outputs": [],
   "source": [
    "data_infinity_reddit_prepared.to_csv(\".\\Data\\data_atoms_infinity_reddit.csv\", index=False)"
   ]
  },
  {
   "cell_type": "code",
   "execution_count": 8,
   "metadata": {},
   "outputs": [],
   "source": [
    "new_data_infinity_reddit.to_csv(\".\\Data\\mean_median_infinity_reddit.csv\", index=False)"
   ]
  },
  {
   "attachments": {},
   "cell_type": "markdown",
   "metadata": {},
   "source": [
    "Discreet Launcher"
   ]
  },
  {
   "cell_type": "code",
   "execution_count": 9,
   "metadata": {},
   "outputs": [],
   "source": [
    "data_discreet_launcher_prepared = csv_preparation(data_atoms_discreet_launcher, 'Discreet Launcher')"
   ]
  },
  {
   "cell_type": "code",
   "execution_count": 10,
   "metadata": {},
   "outputs": [],
   "source": [
    "new_data_discreet_launcher = new_csv_creation(data_discreet_launcher_prepared, 'Discreet Launcher')"
   ]
  },
  {
   "cell_type": "code",
   "execution_count": 11,
   "metadata": {},
   "outputs": [],
   "source": [
    "data_discreet_launcher_prepared.to_csv(\".\\Data\\data_atoms_discreet_launcher.csv\", index=False)"
   ]
  },
  {
   "cell_type": "code",
   "execution_count": 12,
   "metadata": {},
   "outputs": [],
   "source": [
    "new_data_discreet_launcher.to_csv(\".\\Data\\mean_median_discreet_launcher.csv\", index=False)"
   ]
  },
  {
   "attachments": {},
   "cell_type": "markdown",
   "metadata": {},
   "source": [
    "Open Tracks"
   ]
  },
  {
   "cell_type": "code",
   "execution_count": 13,
   "metadata": {},
   "outputs": [],
   "source": [
    "data_open_tracks_prepared = csv_preparation(data_atoms_open_tracks, 'Open Tracks')"
   ]
  },
  {
   "cell_type": "code",
   "execution_count": 14,
   "metadata": {},
   "outputs": [],
   "source": [
    "new_data_open_tracks = new_csv_creation(data_open_tracks_prepared, 'Open Tracks')"
   ]
  },
  {
   "cell_type": "code",
   "execution_count": 15,
   "metadata": {},
   "outputs": [],
   "source": [
    "data_open_tracks_prepared.to_csv(\".\\Data\\data_atoms_open_tracks.csv\", index=False)"
   ]
  },
  {
   "cell_type": "code",
   "execution_count": 16,
   "metadata": {},
   "outputs": [],
   "source": [
    "new_data_open_tracks.to_csv(\".\\Data\\mean_median_open_tracks.csv\", index=False)"
   ]
  },
  {
   "attachments": {},
   "cell_type": "markdown",
   "metadata": {},
   "source": [
    "XUpdate"
   ]
  },
  {
   "cell_type": "code",
   "execution_count": 17,
   "metadata": {},
   "outputs": [],
   "source": [
    "data_xupdate_prepared = csv_preparation(data_atoms_xupdate, 'XUpdate')"
   ]
  },
  {
   "cell_type": "code",
   "execution_count": 18,
   "metadata": {},
   "outputs": [],
   "source": [
    "new_data_xupdate = new_csv_creation(data_xupdate_prepared, 'XUpdate')"
   ]
  },
  {
   "cell_type": "code",
   "execution_count": 19,
   "metadata": {},
   "outputs": [],
   "source": [
    "data_xupdate_prepared.to_csv(\".\\Data\\data_atoms_xupdate.csv\", index=False)"
   ]
  },
  {
   "cell_type": "code",
   "execution_count": 20,
   "metadata": {},
   "outputs": [],
   "source": [
    "new_data_xupdate.to_csv(\".\\Data\\mean_median_xupdate.csv\", index=False)"
   ]
  },
  {
   "attachments": {},
   "cell_type": "markdown",
   "metadata": {},
   "source": [
    "Presence-Publisher"
   ]
  },
  {
   "cell_type": "code",
   "execution_count": 21,
   "metadata": {},
   "outputs": [],
   "source": [
    "data_presence_publisher_prepared = csv_preparation(data_atoms_presence_publisher, 'Presence-Publisher')"
   ]
  },
  {
   "cell_type": "code",
   "execution_count": 22,
   "metadata": {},
   "outputs": [],
   "source": [
    "new_data_presence_publisher = new_csv_creation(data_presence_publisher_prepared, 'Presence-Publisher')"
   ]
  },
  {
   "cell_type": "code",
   "execution_count": 23,
   "metadata": {},
   "outputs": [],
   "source": [
    "data_presence_publisher_prepared.to_csv(\".\\Data\\data_atoms_presence_publisher.csv\", index=False)"
   ]
  },
  {
   "cell_type": "code",
   "execution_count": 24,
   "metadata": {},
   "outputs": [],
   "source": [
    "new_data_presence_publisher.to_csv(\".\\Data\\mean_median_presence_publisher.csv\", index=False)"
   ]
  },
  {
   "attachments": {},
   "cell_type": "markdown",
   "metadata": {},
   "source": [
    "AsteroidOSSync"
   ]
  },
  {
   "cell_type": "code",
   "execution_count": 25,
   "metadata": {},
   "outputs": [],
   "source": [
    "data_asteroid_os_sync_prepared = csv_preparation(data_atoms_asteroid_os_sync, 'AsteroidOSSync')"
   ]
  },
  {
   "cell_type": "code",
   "execution_count": 26,
   "metadata": {},
   "outputs": [],
   "source": [
    "new_data_asteroid_os_sync = new_csv_creation(data_asteroid_os_sync_prepared, 'AsteroidOSSync')"
   ]
  },
  {
   "cell_type": "code",
   "execution_count": 27,
   "metadata": {},
   "outputs": [],
   "source": [
    "data_asteroid_os_sync_prepared.to_csv(\".\\Data\\data_atoms_asteroid_os_sync.csv\", index=False)"
   ]
  },
  {
   "cell_type": "code",
   "execution_count": 28,
   "metadata": {},
   "outputs": [],
   "source": [
    "new_data_asteroid_os_sync.to_csv(\".\\Data\\mean_median_asteroid_os_sync.csv\", index=False)"
   ]
  },
  {
   "attachments": {},
   "cell_type": "markdown",
   "metadata": {},
   "source": [
    "Unexpected-Keyboard"
   ]
  },
  {
   "cell_type": "code",
   "execution_count": 29,
   "metadata": {},
   "outputs": [],
   "source": [
    "data_unexpected_keyboard_prepared = csv_preparation(data_atoms_unexpected_keyboard, 'Unexpected-Keyboard')"
   ]
  },
  {
   "cell_type": "code",
   "execution_count": 30,
   "metadata": {},
   "outputs": [],
   "source": [
    "new_data_unexpected_keyboard = new_csv_creation(data_unexpected_keyboard_prepared, 'Unexpected-Keyboard')"
   ]
  },
  {
   "cell_type": "code",
   "execution_count": 31,
   "metadata": {},
   "outputs": [],
   "source": [
    "data_unexpected_keyboard_prepared.to_csv(\".\\Data\\data_atoms_unexpected_keyboard.csv\", index=False)"
   ]
  },
  {
   "cell_type": "code",
   "execution_count": 32,
   "metadata": {},
   "outputs": [],
   "source": [
    "new_data_unexpected_keyboard.to_csv(\".\\Data\\mean_median_unexpected_keyboard.csv\", index=False)"
   ]
  },
  {
   "attachments": {},
   "cell_type": "markdown",
   "metadata": {},
   "source": [
    "Shitter"
   ]
  },
  {
   "cell_type": "code",
   "execution_count": 33,
   "metadata": {},
   "outputs": [],
   "source": [
    "data_shitter_prepared = csv_preparation(data_atoms_shitter, 'Shitter')"
   ]
  },
  {
   "cell_type": "code",
   "execution_count": 34,
   "metadata": {},
   "outputs": [],
   "source": [
    "new_data_shitter = new_csv_creation(data_shitter_prepared, 'Shitter')"
   ]
  },
  {
   "cell_type": "code",
   "execution_count": 35,
   "metadata": {},
   "outputs": [],
   "source": [
    "data_shitter_prepared.to_csv(\".\\Data\\data_atoms_shitter.csv\", index=False)"
   ]
  },
  {
   "cell_type": "code",
   "execution_count": 36,
   "metadata": {},
   "outputs": [],
   "source": [
    "new_data_shitter.to_csv(\".\\Data\\mean_median_shitter.csv\", index=False)"
   ]
  },
  {
   "attachments": {},
   "cell_type": "markdown",
   "metadata": {},
   "source": [
    "ColorPickerView"
   ]
  },
  {
   "cell_type": "code",
   "execution_count": 37,
   "metadata": {},
   "outputs": [],
   "source": [
    "data_colorpickerview_prepared = csv_preparation(data_atoms_colorpickerview, 'ColorPickerView')"
   ]
  },
  {
   "cell_type": "code",
   "execution_count": 38,
   "metadata": {},
   "outputs": [],
   "source": [
    "new_data_colorpickerview = new_csv_creation(data_colorpickerview_prepared, 'ColorPickerView')"
   ]
  },
  {
   "cell_type": "code",
   "execution_count": 39,
   "metadata": {},
   "outputs": [],
   "source": [
    "data_colorpickerview_prepared.to_csv(\".\\Data\\data_atoms_colorpickerview.csv\", index=False)"
   ]
  },
  {
   "cell_type": "code",
   "execution_count": 40,
   "metadata": {},
   "outputs": [],
   "source": [
    "new_data_colorpickerview.to_csv(\".\\Data\\mean_median_colorpickerview.csv\", index=False)"
   ]
  },
  {
   "attachments": {},
   "cell_type": "markdown",
   "metadata": {},
   "source": [
    "GestureViews"
   ]
  },
  {
   "cell_type": "code",
   "execution_count": 41,
   "metadata": {},
   "outputs": [],
   "source": [
    "data_gestureviews_prepared = csv_preparation(data_atoms_gestureviews, 'GestureViews')"
   ]
  },
  {
   "cell_type": "code",
   "execution_count": 42,
   "metadata": {},
   "outputs": [],
   "source": [
    "new_data_gestureviews = new_csv_creation(data_gestureviews_prepared, 'GestureViews')"
   ]
  },
  {
   "cell_type": "code",
   "execution_count": 43,
   "metadata": {},
   "outputs": [],
   "source": [
    "data_gestureviews_prepared.to_csv(\".\\Data\\data_atoms_gestureviews.csv\", index=False)"
   ]
  },
  {
   "cell_type": "code",
   "execution_count": 44,
   "metadata": {},
   "outputs": [],
   "source": [
    "new_data_gestureviews.to_csv(\".\\Data\\mean_median_gestureviews.csv\", index=False)"
   ]
  },
  {
   "cell_type": "markdown",
   "metadata": {},
   "source": [
    "Finally, here we create .csv files with all the data, both in raw and average formats"
   ]
  },
  {
   "cell_type": "code",
   "execution_count": 45,
   "metadata": {},
   "outputs": [],
   "source": [
    "df = data_infinity_reddit_prepared\n",
    "df = df.append(data_gestureviews_prepared)\n",
    "df = df.append(data_colorpickerview_prepared)\n",
    "df = df.append(data_shitter_prepared)\n",
    "df = df.append(data_open_tracks_prepared)\n",
    "df = df.append(data_unexpected_keyboard_prepared)\n",
    "df = df.append(data_presence_publisher_prepared)\n",
    "df = df.append(data_xupdate_prepared)\n",
    "df = df.append(data_discreet_launcher_prepared)\n",
    "df = df.append(data_asteroid_os_sync_prepared)\n",
    "df.to_csv(\".\\Data\\projects_android.csv\", index=False)"
   ]
  },
  {
   "cell_type": "code",
   "execution_count": 46,
   "metadata": {},
   "outputs": [],
   "source": [
    "df = new_data_infinity_reddit\n",
    "df = df.append(new_data_gestureviews)\n",
    "df = df.append(new_data_colorpickerview)\n",
    "df = df.append(new_data_shitter)\n",
    "df = df.append(new_data_open_tracks)\n",
    "df = df.append(new_data_unexpected_keyboard)\n",
    "df = df.append(new_data_presence_publisher)\n",
    "df = df.append(new_data_xupdate)\n",
    "df = df.append(new_data_discreet_launcher)\n",
    "df = df.append(new_data_asteroid_os_sync)\n",
    "df.to_csv(\".\\Data\\projects_android_mean_median.csv\", index=False)"
   ]
  }
 ],
 "metadata": {
  "kernelspec": {
   "display_name": "aicons2",
   "language": "python",
   "name": "python3"
  },
  "language_info": {
   "codemirror_mode": {
    "name": "ipython",
    "version": 3
   },
   "file_extension": ".py",
   "mimetype": "text/x-python",
   "name": "python",
   "nbconvert_exporter": "python",
   "pygments_lexer": "ipython3",
   "version": "3.9.16"
  },
  "orig_nbformat": 4
 },
 "nbformat": 4,
 "nbformat_minor": 2
}
