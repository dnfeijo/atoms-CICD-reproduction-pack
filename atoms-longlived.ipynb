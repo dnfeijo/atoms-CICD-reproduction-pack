{
 "cells": [
  {
   "cell_type": "markdown",
   "metadata": {},
   "source": [
    "This notebook purpose is to convert all the data (.csv files) from the long-lived java projects into new .csv files. The new csvs have the ACR, ACDIF and ACDEN metrics, their means and median. This notebook also compiles all projects into two csvs that have all the normal metrics, and all the average metrics.\n",
    "PS: The geometric mean done here is unnecessary, and not the one we used on our paper.\n"
   ]
  },
  {
   "cell_type": "code",
   "execution_count": 1,
   "metadata": {},
   "outputs": [],
   "source": [
    "#These are all the necessary imports for this notebook. Make sure you have all of the dependencies installed.\n",
    "import pandas as pd\n",
    "\n",
    "from scipy.stats.mstats import gmean"
   ]
  },
  {
   "cell_type": "markdown",
   "metadata": {},
   "source": [
    "The first steps are getting our data from the original .csv files. These were made by extracting data from the projects using BOHR (https://github.com/wendellmfm/bohr) and JMetriX (https://github.com/lincolnrocha/JMetriX)"
   ]
  },
  {
   "cell_type": "code",
   "execution_count": 2,
   "metadata": {},
   "outputs": [],
   "source": [
    "data_atoms_lang = pd.read_csv(r'.\\Data\\reports\\commons-lang-all.csv', sep=';')\n",
    "data_atoms_dbcp = pd.read_csv(r'.\\Data\\reports\\dbcp-all.csv', sep=';')\n",
    "data_atoms_struts = pd.read_csv(r'.\\Data\\reports\\struts-all.csv', sep=';')\n",
    "data_atoms_codec = pd.read_csv(r'.\\Data\\reports\\commons-codec-all.csv', sep=';')\n",
    "data_atoms_bcel = pd.read_csv(r'.\\Data\\reports\\commons-bcel-all.csv', sep=';')\n",
    "data_atoms_compress = pd.read_csv(r'.\\Data\\reports\\commons-compress-all.csv', sep=';')\n",
    "data_atoms_configuration = pd.read_csv(r'.\\Data\\reports\\commons-configuration-all.csv', sep=';')\n",
    "data_atoms_net = pd.read_csv(r'.\\Data\\reports\\commons-net-all.csv', sep=';')\n",
    "data_atoms_freemarker = pd.read_csv(r'.\\Data\\reports\\\\freemarker-all.csv', sep=';')\n",
    "data_atoms_vfs = pd.read_csv(r'.\\Data\\reports\\commons-vfs-all.csv', sep=';')"
   ]
  },
  {
   "cell_type": "markdown",
   "metadata": {},
   "source": [
    "These functions prepare the new metrics and how the new .csv files will be created"
   ]
  },
  {
   "cell_type": "code",
   "execution_count": 3,
   "metadata": {},
   "outputs": [],
   "source": [
    "def csv_preparation (data, name):\n",
    "    data['Number of Atoms per LoC (10^-3)'] = data['N.Atoms']*1000/data['LoC']\n",
    "    data['Atom Diffusion'] = data['Classes w/ Atoms']/data['Classes Total']\n",
    "    data['Atom Density'] = data['N.Atoms']/data['Classes w/ Atoms']\n",
    "    data['Project'] = name\n",
    "    data = data.iloc[::-1]\n",
    "    data = data.iloc[:,[20,0,1,2,3,4,5,6,7,8,9,10,11,12,13,14,15,16,17,18,19]]\n",
    "    return data"
   ]
  },
  {
   "cell_type": "code",
   "execution_count": 4,
   "metadata": {},
   "outputs": [],
   "source": [
    "def new_csv_creation (data, name):\n",
    "    new_data = []\n",
    "\n",
    "    mean_class_total_before = data[data[\"Period\"] == \"Before CI/CD\"][\"Classes Total\"].mean()\n",
    "    mean_class_total_after = data[data[\"Period\"] == \"After CI/CD\"][\"Classes Total\"].mean()  \n",
    "    mean_class_atoms_before = data[data[\"Period\"] == \"Before CI/CD\"][\"Classes w/ Atoms\"].mean()\n",
    "    mean_class_atoms_after = data[data[\"Period\"] == \"After CI/CD\"][\"Classes w/ Atoms\"].mean()  \n",
    "    mean_atoms_before = data[data[\"Period\"] == \"Before CI/CD\"][\"N.Atoms\"].mean() \n",
    "    mean_atoms_after = data[data[\"Period\"] == \"After CI/CD\"][\"N.Atoms\"].mean()\n",
    "    mean_loc_before = data[data[\"Period\"] == \"Before CI/CD\"][\"LoC\"].mean() \n",
    "    mean_loc_after = data[data[\"Period\"] == \"After CI/CD\"][\"LoC\"].mean()\n",
    "    mean_num_per_loc_before = data[data[\"Period\"] == \"Before CI/CD\"][\"Number of Atoms per LoC (10^-3)\"].mean() \n",
    "    mean_num_per_loc_after = data[data[\"Period\"] == \"After CI/CD\"][\"Number of Atoms per LoC (10^-3)\"].mean()\n",
    "    mean_diffusion_before = data[data[\"Period\"] == \"Before CI/CD\"][\"Atom Diffusion\"].mean() \n",
    "    mean_diffusion_after = data[data[\"Period\"] == \"After CI/CD\"][\"Atom Diffusion\"].mean()\n",
    "    mean_density_before = data[data[\"Period\"] == \"Before CI/CD\"][\"Atom Density\"].mean() \n",
    "    mean_density_after = data[data[\"Period\"] == \"After CI/CD\"][\"Atom Density\"].mean()\n",
    "\n",
    "    median_class_total_before = data[data[\"Period\"] == \"Before CI/CD\"][\"Classes Total\"].median()\n",
    "    median_class_total_after = data[data[\"Period\"] == \"After CI/CD\"][\"Classes Total\"].median()  \n",
    "    median_class_atoms_before = data[data[\"Period\"] == \"Before CI/CD\"][\"Classes w/ Atoms\"].median()\n",
    "    median_class_atoms_after = data[data[\"Period\"] == \"After CI/CD\"][\"Classes w/ Atoms\"].median() \n",
    "    median_atoms_before = data[data[\"Period\"] == \"Before CI/CD\"][\"N.Atoms\"].median() \n",
    "    median_atoms_after = data[data[\"Period\"] == \"After CI/CD\"][\"N.Atoms\"].median()\n",
    "    median_loc_before = data[data[\"Period\"] == \"Before CI/CD\"][\"LoC\"].median() \n",
    "    median_loc_after = data[data[\"Period\"] == \"After CI/CD\"][\"LoC\"].median()\n",
    "    median_num_per_loc_before = data[data[\"Period\"] == \"Before CI/CD\"][\"Number of Atoms per LoC (10^-3)\"].median() \n",
    "    median_num_per_loc_after = data[data[\"Period\"] == \"After CI/CD\"][\"Number of Atoms per LoC (10^-3)\"].median()\n",
    "    median_diffusion_before = data[data[\"Period\"] == \"Before CI/CD\"][\"Atom Diffusion\"].median() \n",
    "    median_diffusion_after = data[data[\"Period\"] == \"After CI/CD\"][\"Atom Diffusion\"].median()\n",
    "    median_density_before = data[data[\"Period\"] == \"Before CI/CD\"][\"Atom Density\"].median() \n",
    "    median_density_after = data[data[\"Period\"] == \"After CI/CD\"][\"Atom Density\"].median()\n",
    "\n",
    "    gmean_class_total_before = gmean(data[data[\"Period\"] == \"Before CI/CD\"][\"Classes Total\"])\n",
    "    gmean_class_total_after = gmean(data[data[\"Period\"] == \"After CI/CD\"][\"Classes Total\"])  \n",
    "    gmean_class_atoms_before = gmean(data[data[\"Period\"] == \"Before CI/CD\"][\"Classes w/ Atoms\"])\n",
    "    gmean_class_atoms_after = gmean(data[data[\"Period\"] == \"After CI/CD\"][\"Classes w/ Atoms\"])  \n",
    "    gmean_atoms_before = gmean(data[data[\"Period\"] == \"Before CI/CD\"][\"N.Atoms\"]) \n",
    "    gmean_atoms_after = gmean(data[data[\"Period\"] == \"After CI/CD\"][\"N.Atoms\"])\n",
    "    gmean_loc_before = gmean(data[data[\"Period\"] == \"Before CI/CD\"][\"LoC\"]) \n",
    "    gmean_loc_after = gmean(data[data[\"Period\"] == \"After CI/CD\"][\"LoC\"])\n",
    "    gmean_num_per_loc_before = gmean(data[data[\"Period\"] == \"Before CI/CD\"][\"Number of Atoms per LoC (10^-3)\"])\n",
    "    gmean_num_per_loc_after = gmean(data[data[\"Period\"] == \"After CI/CD\"][\"Number of Atoms per LoC (10^-3)\"])\n",
    "    gmean_diffusion_before = gmean(data[data[\"Period\"] == \"Before CI/CD\"][\"Atom Diffusion\"]) \n",
    "    gmean_diffusion_after = gmean(data[data[\"Period\"] == \"After CI/CD\"][\"Atom Diffusion\"])\n",
    "    gmean_density_before = gmean(data[data[\"Period\"] == \"Before CI/CD\"][\"Atom Density\"]) \n",
    "    gmean_density_after = gmean(data[data[\"Period\"] == \"After CI/CD\"][\"Atom Density\"])\n",
    "\n",
    "    new_data.append([name, \"Before CI/CD\", \"Mean\", mean_class_total_before, mean_class_atoms_before, mean_loc_before, mean_atoms_before, mean_num_per_loc_before, mean_diffusion_before, mean_density_before])\n",
    "    new_data.append([name, \"After CI/CD\", \"Mean\", mean_class_total_after, mean_class_atoms_after, mean_loc_after, mean_atoms_after, mean_num_per_loc_after, mean_diffusion_after, mean_density_after])\n",
    "    new_data.append([name, \"Before CI/CD\", \"Median\", median_class_total_before, median_class_atoms_before, median_loc_before, median_atoms_before, median_num_per_loc_before, median_diffusion_before, median_density_before])\n",
    "    new_data.append([name, \"After CI/CD\", \"Median\", median_class_total_after, median_class_atoms_after, median_loc_after, median_atoms_after, median_num_per_loc_after, median_diffusion_after, median_density_after])\n",
    "    new_data.append([name, \"Before CI/CD\", \"Geo-Mean\", gmean_class_total_before, gmean_class_atoms_before, gmean_loc_before, gmean_atoms_before, gmean_num_per_loc_before, gmean_diffusion_before, gmean_density_before])\n",
    "    new_data.append([name, \"After CI/CD\", \"Geo-Mean\", gmean_class_total_after, gmean_class_atoms_after, gmean_loc_after, gmean_atoms_after, gmean_num_per_loc_after, gmean_diffusion_after, gmean_density_after])\n",
    "\n",
    "    df = pd.DataFrame(new_data)\n",
    "    new_columns = data.columns.delete([7, 8, 9, 10, 11, 12, 13, 14, 15, 16, 17])\n",
    "    df.columns = new_columns\n",
    "    return df"
   ]
  },
  {
   "cell_type": "markdown",
   "metadata": {},
   "source": [
    "From now up until almost the end, the  notebook will go through every long-lived Java project and calculate the metrics, organize the data, and create the necessary .csv files for the other notebooks"
   ]
  },
  {
   "attachments": {},
   "cell_type": "markdown",
   "metadata": {},
   "source": [
    "Commons-Lang"
   ]
  },
  {
   "cell_type": "code",
   "execution_count": 5,
   "metadata": {},
   "outputs": [],
   "source": [
    "data_lang_prepared = csv_preparation(data_atoms_lang, \"Commons-Lang\")"
   ]
  },
  {
   "cell_type": "code",
   "execution_count": 6,
   "metadata": {},
   "outputs": [],
   "source": [
    "new_data_lang = new_csv_creation(data_lang_prepared, \"Commons-Lang\")"
   ]
  },
  {
   "cell_type": "code",
   "execution_count": 7,
   "metadata": {},
   "outputs": [],
   "source": [
    "data_lang_prepared.to_csv(\".\\Data\\data_atoms_lang.csv\", index=False)"
   ]
  },
  {
   "cell_type": "code",
   "execution_count": 8,
   "metadata": {},
   "outputs": [],
   "source": [
    "new_data_lang.to_csv(\".\\Data\\mean_median_lang.csv\", index=False)"
   ]
  },
  {
   "attachments": {},
   "cell_type": "markdown",
   "metadata": {},
   "source": [
    "Commons-DBCP"
   ]
  },
  {
   "cell_type": "code",
   "execution_count": 9,
   "metadata": {},
   "outputs": [],
   "source": [
    "data_dbcp_prepared = csv_preparation(data_atoms_dbcp, 'Commons-DBCP')"
   ]
  },
  {
   "cell_type": "code",
   "execution_count": 10,
   "metadata": {},
   "outputs": [],
   "source": [
    "new_data_dbcp = new_csv_creation(data_dbcp_prepared, 'Commons-DBCP')"
   ]
  },
  {
   "cell_type": "code",
   "execution_count": 11,
   "metadata": {},
   "outputs": [],
   "source": [
    "data_dbcp_prepared.to_csv(\".\\Data\\data_atoms_dbcp.csv\", index=False)"
   ]
  },
  {
   "cell_type": "code",
   "execution_count": 12,
   "metadata": {},
   "outputs": [],
   "source": [
    "new_data_dbcp.to_csv(\".\\Data\\mean_median_dbcp.csv\", index=False)"
   ]
  },
  {
   "attachments": {},
   "cell_type": "markdown",
   "metadata": {},
   "source": [
    "Struts (Without Plugins)"
   ]
  },
  {
   "cell_type": "code",
   "execution_count": 13,
   "metadata": {},
   "outputs": [],
   "source": [
    "data_struts_prepared = csv_preparation(data_atoms_struts, 'Struts')"
   ]
  },
  {
   "cell_type": "code",
   "execution_count": 14,
   "metadata": {},
   "outputs": [],
   "source": [
    "new_data_struts = new_csv_creation(data_struts_prepared, 'Struts')"
   ]
  },
  {
   "cell_type": "code",
   "execution_count": 15,
   "metadata": {},
   "outputs": [],
   "source": [
    "data_struts_prepared.to_csv(\".\\Data\\data_atoms_struts.csv\", index=False)"
   ]
  },
  {
   "cell_type": "code",
   "execution_count": 16,
   "metadata": {},
   "outputs": [],
   "source": [
    "new_data_struts.to_csv(\".\\Data\\mean_median_struts.csv\", index=False)"
   ]
  },
  {
   "attachments": {},
   "cell_type": "markdown",
   "metadata": {},
   "source": [
    "Commons-Codec"
   ]
  },
  {
   "cell_type": "code",
   "execution_count": 17,
   "metadata": {},
   "outputs": [],
   "source": [
    "data_codec_prepared = csv_preparation(data_atoms_codec, 'Commons-Codec')"
   ]
  },
  {
   "cell_type": "code",
   "execution_count": 18,
   "metadata": {},
   "outputs": [],
   "source": [
    "new_data_codec = new_csv_creation(data_codec_prepared, 'Commons-Codec')"
   ]
  },
  {
   "cell_type": "code",
   "execution_count": 19,
   "metadata": {},
   "outputs": [],
   "source": [
    "data_codec_prepared.to_csv(\".\\Data\\data_atoms_codec.csv\", index=False)"
   ]
  },
  {
   "cell_type": "code",
   "execution_count": 20,
   "metadata": {},
   "outputs": [],
   "source": [
    "new_data_codec.to_csv(\".\\Data\\mean_median_codec.csv\", index=False)"
   ]
  },
  {
   "attachments": {},
   "cell_type": "markdown",
   "metadata": {},
   "source": [
    "Commons-bcel"
   ]
  },
  {
   "cell_type": "code",
   "execution_count": 21,
   "metadata": {},
   "outputs": [],
   "source": [
    "data_bcel_prepared = csv_preparation(data_atoms_bcel, 'Commons-Bcel')"
   ]
  },
  {
   "cell_type": "code",
   "execution_count": 22,
   "metadata": {},
   "outputs": [],
   "source": [
    "new_data_bcel = new_csv_creation(data_bcel_prepared, 'Commons-Bcel')"
   ]
  },
  {
   "cell_type": "code",
   "execution_count": 23,
   "metadata": {},
   "outputs": [],
   "source": [
    "data_bcel_prepared.to_csv(\".\\Data\\data_atoms_bcel.csv\", index=False)"
   ]
  },
  {
   "cell_type": "code",
   "execution_count": 24,
   "metadata": {},
   "outputs": [],
   "source": [
    "new_data_bcel.to_csv(\".\\Data\\mean_median_bcel.csv\", index=False)"
   ]
  },
  {
   "attachments": {},
   "cell_type": "markdown",
   "metadata": {},
   "source": [
    "Commons-Compress"
   ]
  },
  {
   "cell_type": "code",
   "execution_count": 25,
   "metadata": {},
   "outputs": [],
   "source": [
    "data_compress_prepared = csv_preparation(data_atoms_compress, 'Commons-Compress')"
   ]
  },
  {
   "cell_type": "code",
   "execution_count": 26,
   "metadata": {},
   "outputs": [],
   "source": [
    "new_data_compress = new_csv_creation(data_compress_prepared, 'Commons-Compress')"
   ]
  },
  {
   "cell_type": "code",
   "execution_count": 27,
   "metadata": {},
   "outputs": [],
   "source": [
    "data_compress_prepared.to_csv(\".\\Data\\data_atoms_compress.csv\", index=False)"
   ]
  },
  {
   "cell_type": "code",
   "execution_count": 28,
   "metadata": {},
   "outputs": [],
   "source": [
    "new_data_compress.to_csv(\".\\Data\\mean_median_compress.csv\", index=False)"
   ]
  },
  {
   "attachments": {},
   "cell_type": "markdown",
   "metadata": {},
   "source": [
    "Commons-Configuration"
   ]
  },
  {
   "cell_type": "code",
   "execution_count": 29,
   "metadata": {},
   "outputs": [],
   "source": [
    "data_configuration_prepared = csv_preparation(data_atoms_configuration, 'Commons-Configuration')"
   ]
  },
  {
   "cell_type": "code",
   "execution_count": 30,
   "metadata": {},
   "outputs": [],
   "source": [
    "new_data_configuration = new_csv_creation(data_configuration_prepared, 'Commons-Configuration')"
   ]
  },
  {
   "cell_type": "code",
   "execution_count": 31,
   "metadata": {},
   "outputs": [],
   "source": [
    "data_configuration_prepared.to_csv(\".\\Data\\data_atoms_configuration.csv\", index=False)"
   ]
  },
  {
   "cell_type": "code",
   "execution_count": 32,
   "metadata": {},
   "outputs": [],
   "source": [
    "new_data_configuration.to_csv(\".\\Data\\mean_median_configuration.csv\", index=False)"
   ]
  },
  {
   "attachments": {},
   "cell_type": "markdown",
   "metadata": {},
   "source": [
    "Commons-Net"
   ]
  },
  {
   "cell_type": "code",
   "execution_count": 33,
   "metadata": {},
   "outputs": [],
   "source": [
    "data_net_prepared = csv_preparation(data_atoms_net, 'Commons-Net')"
   ]
  },
  {
   "cell_type": "code",
   "execution_count": 34,
   "metadata": {},
   "outputs": [],
   "source": [
    "new_data_net = new_csv_creation(data_net_prepared, 'Commons-Net')"
   ]
  },
  {
   "cell_type": "code",
   "execution_count": 35,
   "metadata": {},
   "outputs": [],
   "source": [
    "data_net_prepared.to_csv(\".\\Data\\data_atoms_net.csv\", index=False)"
   ]
  },
  {
   "cell_type": "code",
   "execution_count": 36,
   "metadata": {},
   "outputs": [],
   "source": [
    "new_data_net.to_csv(\".\\Data\\mean_median_net.csv\", index=False)"
   ]
  },
  {
   "attachments": {},
   "cell_type": "markdown",
   "metadata": {},
   "source": [
    "Freemarker"
   ]
  },
  {
   "cell_type": "code",
   "execution_count": 37,
   "metadata": {},
   "outputs": [],
   "source": [
    "data_freemarker_prepared = csv_preparation(data_atoms_freemarker, 'Freemarker')"
   ]
  },
  {
   "cell_type": "code",
   "execution_count": 38,
   "metadata": {},
   "outputs": [],
   "source": [
    "new_data_freemarker = new_csv_creation(data_freemarker_prepared, 'Freemarker')"
   ]
  },
  {
   "cell_type": "code",
   "execution_count": 39,
   "metadata": {},
   "outputs": [],
   "source": [
    "data_freemarker_prepared.to_csv(\".\\Data\\data_atoms_freemarker.csv\", index=False)"
   ]
  },
  {
   "cell_type": "code",
   "execution_count": 40,
   "metadata": {},
   "outputs": [],
   "source": [
    "new_data_freemarker.to_csv(\".\\Data\\mean_median_freemarker.csv\", index=False)"
   ]
  },
  {
   "attachments": {},
   "cell_type": "markdown",
   "metadata": {},
   "source": [
    "Commons-vfs"
   ]
  },
  {
   "cell_type": "code",
   "execution_count": 41,
   "metadata": {},
   "outputs": [],
   "source": [
    "data_vfs_prepared = csv_preparation(data_atoms_vfs, 'Commons-Vfs')"
   ]
  },
  {
   "cell_type": "code",
   "execution_count": 42,
   "metadata": {},
   "outputs": [],
   "source": [
    "new_data_vfs = new_csv_creation(data_vfs_prepared, 'Commons-Vfs')"
   ]
  },
  {
   "cell_type": "code",
   "execution_count": 43,
   "metadata": {},
   "outputs": [],
   "source": [
    "data_vfs_prepared.to_csv(\".\\Data\\data_atoms_vfs.csv\", index=False)"
   ]
  },
  {
   "cell_type": "code",
   "execution_count": 44,
   "metadata": {},
   "outputs": [],
   "source": [
    "new_data_vfs.to_csv(\".\\Data\\mean_median_vfs.csv\", index=False)"
   ]
  },
  {
   "cell_type": "markdown",
   "metadata": {},
   "source": [
    "Finally, here we create .csv files with all the data, both in raw and average formats"
   ]
  },
  {
   "cell_type": "code",
   "execution_count": 45,
   "metadata": {},
   "outputs": [],
   "source": [
    "df = data_lang_prepared\n",
    "df = df.append(data_dbcp_prepared)\n",
    "df = df.append(data_struts_prepared)\n",
    "df = df.append(data_codec_prepared)\n",
    "df = df.append(data_bcel_prepared)\n",
    "df = df.append(data_compress_prepared)\n",
    "df = df.append(data_configuration_prepared)\n",
    "df = df.append(data_net_prepared)\n",
    "df = df.append(data_freemarker_prepared)\n",
    "df = df.append(data_vfs_prepared)\n",
    "df.to_csv(\".\\Data\\projects_java.csv\", index=False)"
   ]
  },
  {
   "cell_type": "code",
   "execution_count": 46,
   "metadata": {},
   "outputs": [],
   "source": [
    "df = new_data_lang\n",
    "df = df.append(new_data_dbcp)\n",
    "df = df.append(new_data_struts)\n",
    "df = df.append(new_data_codec)\n",
    "df = df.append(new_data_bcel)\n",
    "df = df.append(new_data_compress)\n",
    "df = df.append(new_data_configuration)\n",
    "df = df.append(new_data_net)\n",
    "df = df.append(new_data_freemarker)\n",
    "df = df.append(new_data_vfs)\n",
    "df.to_csv(\".\\Data\\projects_java_mean_median.csv\", index=False)"
   ]
  }
 ],
 "metadata": {
  "kernelspec": {
   "display_name": "aicons2",
   "language": "python",
   "name": "python3"
  },
  "language_info": {
   "codemirror_mode": {
    "name": "ipython",
    "version": 3
   },
   "file_extension": ".py",
   "mimetype": "text/x-python",
   "name": "python",
   "nbconvert_exporter": "python",
   "pygments_lexer": "ipython3",
   "version": "3.9.16"
  },
  "orig_nbformat": 4
 },
 "nbformat": 4,
 "nbformat_minor": 2
}
